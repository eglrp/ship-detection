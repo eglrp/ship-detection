{
 "cells": [
  {
   "cell_type": "code",
   "execution_count": 1,
   "metadata": {},
   "outputs": [
    {
     "name": "stdout",
     "output_type": "stream",
     "text": [
      "*******************\n",
      "net\n",
      "blobs ['conv1_1', 'conv1_2', 'conv1_3', 'conv2_1', 'conv2_2', 'conv3', 'conv4', 'conv5', 'fc6', 'bbox_pred', 'fc7', 'bbox_pred_2', 'fc8', 'clssify']\n",
      "params ['conv1_1', 'conv1_2', 'conv1_3', 'conv2_1', 'conv2_2', 'conv3', 'conv4', 'conv5', 'fc6', 'bbox_pred', 'fc7', 'bbox_pred_2', 'fc8', 'clssify']\n",
      "*******************\n",
      "net2\n",
      "blobs ['conv1_1', 'conv1_2', 'conv1_3', 'conv2_1', 'conv2_2', 'conv3', 'conv4', 'conv5', 'ip6', 'bbox_pred', 'clssify']\n",
      "params ['conv1_1', 'conv1_2', 'conv1_3', 'conv2_1', 'conv2_2', 'conv3', 'conv4', 'conv5', 'ip6', 'bbox_pred', 'clssify']\n"
     ]
    }
   ],
   "source": [
    "import numpy as np\n",
    "import sys, os\n",
    "ROOT_DIR = os.getcwd()\n",
    "# this file should be run from {caffe_root}/examples (otherwise change this line)\n",
    "sys.path.insert(0, ROOT_DIR + '/caffe/python')\n",
    "import caffe\n",
    "sys.path.insert(0,ROOT_DIR + '/lib')\n",
    "\n",
    "caffe.set_mode_gpu()\n",
    "caffe.set_device( 0 )\n",
    "    \n",
    "model_def = ROOT_DIR + '/test_cascade_2.prototxt'\n",
    "net = caffe.Net(model_def,caffe.TEST) \n",
    "print'*******************'\n",
    "print'net'\n",
    "print(\"blobs {}\\nparams {}\".format(net.params.keys(), net.params.keys()))\n",
    "\n",
    "\n",
    "model_def2 = ROOT_DIR + '/train_ship_cla_reg.prototxt'\n",
    "model_weights2 = ROOT_DIR + '/ship_s_iter_100000.caffemodel'\n",
    "net2 = caffe.Net(model_def2, model_weights2, caffe.TRAIN) \n",
    "print'*******************'\n",
    "print'net2'\n",
    "print(\"blobs {}\\nparams {}\".format(net2.params.keys(), net2.params.keys()))\n",
    "\n",
    "\n",
    "\n",
    "#model_def3 = ROOT_DIR + '/train_ship_cla_reg.prototxt'\n",
    "#model_weights3 = ROOT_DIR + '/ship_s_iter_100000.caffemodel'\n",
    "#net3 = caffe.Net(model_def3, model_weights3, caffe.TRAIN) \n",
    "#print'*******************'\n",
    "#print'net3'\n",
    "#print(\"blobs {}\\nparams {}\".format(net3.params.keys(), net3.params.keys()))"
   ]
  },
  {
   "cell_type": "code",
   "execution_count": 2,
   "metadata": {
    "collapsed": true
   },
   "outputs": [],
   "source": [
    "net.params['conv1_1'][0].data[...] = net2.params['conv1_1'][0].data\n",
    "net.params['conv1_1'][1].data[...] = net2.params['conv1_1'][1].data\n",
    "net.params['conv1_2'][0].data[...] = net2.params['conv1_2'][0].data\n",
    "net.params['conv1_2'][1].data[...] = net2.params['conv1_2'][1].data\n",
    "net.params['conv1_3'][0].data[...] = net2.params['conv1_3'][0].data\n",
    "net.params['conv1_3'][1].data[...] = net2.params['conv1_3'][1].data\n",
    "\n",
    "net.params['conv2_1'][0].data[...] = net2.params['conv2_1'][0].data\n",
    "net.params['conv2_1'][1].data[...] = net2.params['conv2_1'][1].data\n",
    "net.params['conv2_2'][0].data[...] = net2.params['conv2_2'][0].data\n",
    "net.params['conv2_2'][1].data[...] = net2.params['conv2_2'][1].data\n",
    "\n",
    "net.params['conv3'][0].data[...] = net2.params['conv3'][0].data\n",
    "net.params['conv3'][1].data[...] = net2.params['conv3'][1].data\n",
    "\n",
    "net.params['conv4'][0].data[...] = net2.params['conv4'][0].data\n",
    "net.params['conv4'][1].data[...] = net2.params['conv4'][1].data\n",
    "\n",
    "net.params['conv5'][0].data[...] = net2.params['conv5'][0].data\n",
    "net.params['conv5'][1].data[...] = net2.params['conv5'][1].data\n",
    "\n",
    "\n",
    "net.params['fc6'][0].data[...] = net2.params['ip6'][0].data\n",
    "net.params['fc6'][1].data[...] = net2.params['ip6'][1].data\n",
    "\n",
    "net.params['fc7'][0].data[...] = net2.params['ip6'][0].data\n",
    "net.params['fc7'][1].data[...] = net2.params['ip6'][1].data\n",
    "\n",
    "net.params['fc8'][0].data[...] = net2.params['ip6'][0].data\n",
    "net.params['fc8'][1].data[...] = net2.params['ip6'][1].data\n",
    "\n",
    "net.params['bbox_pred'][0].data[...] = net2.params['bbox_pred'][0].data\n",
    "net.params['bbox_pred'][1].data[...] = net2.params['bbox_pred'][1].data\n",
    "\n",
    "net.params['bbox_pred_2'][0].data[...] = net2.params['bbox_pred'][0].data\n",
    "net.params['bbox_pred_2'][1].data[...] = net2.params['bbox_pred'][1].data\n",
    "\n",
    "net.params['clssify'][0].data[...] = net2.params['clssify'][0].data\n",
    "net.params['clssify'][1].data[...] = net2.params['clssify'][1].data"
   ]
  },
  {
   "cell_type": "code",
   "execution_count": 3,
   "metadata": {
    "collapsed": true
   },
   "outputs": [],
   "source": [
    "net.save( ROOT_DIR + '/demo_cascade_2.caffemodel')"
   ]
  },
  {
   "cell_type": "code",
   "execution_count": 1,
   "metadata": {},
   "outputs": [
    {
     "name": "stdout",
     "output_type": "stream",
     "text": [
      "*******************\n",
      "net\n",
      "blobs ['conv1_h', 'conv2_h', 'conv3_h', 'conv4_h', 'conv1_1', 'conv1_2', 'conv1_3', 'conv2_1', 'conv2_2', 'conv3', 'conv4', 'conv5', 'fc6', 'bbox_pred', 'fc7', 'bbox_pred_2', 'fc8', 'clssify']\n",
      "params ['conv1_h', 'conv2_h', 'conv3_h', 'conv4_h', 'conv1_1', 'conv1_2', 'conv1_3', 'conv2_1', 'conv2_2', 'conv3', 'conv4', 'conv5', 'fc6', 'bbox_pred', 'fc7', 'bbox_pred_2', 'fc8', 'clssify']\n",
      "*******************\n",
      "net1\n",
      "blobs ['conv1', 'conv2', 'conv3', 'conv4']\n",
      "params ['conv1', 'conv2', 'conv3', 'conv4']\n",
      "*******************\n",
      "net2\n",
      "blobs ['conv1_1', 'conv1_2', 'conv1_3', 'conv2_1', 'conv2_2', 'conv3', 'conv4', 'conv5', 'fc6', 'bbox_pred', 'fc7', 'bbox_pred_2', 'fc8', 'clssify']\n",
      "params ['conv1_1', 'conv1_2', 'conv1_3', 'conv2_1', 'conv2_2', 'conv3', 'conv4', 'conv5', 'fc6', 'bbox_pred', 'fc7', 'bbox_pred_2', 'fc8', 'clssify']\n"
     ]
    }
   ],
   "source": [
    "import numpy as np\n",
    "import sys, os\n",
    "ROOT_DIR = os.getcwd()\n",
    "# this file should be run from {caffe_root}/examples (otherwise change this line)\n",
    "sys.path.insert(0,ROOT_DIR + '/caffe/python')\n",
    "import caffe\n",
    "sys.path.insert(0,ROOT_DIR + '/lib')\n",
    "\n",
    "caffe.set_mode_gpu()\n",
    "caffe.set_device( 0 )\n",
    "\n",
    "\n",
    "model_def = ROOT_DIR + '/test.prototxt'\n",
    "net = caffe.Net(model_def,caffe.TEST) \n",
    "print'*******************'\n",
    "print'net'\n",
    "print(\"blobs {}\\nparams {}\".format(net.params.keys(), net.params.keys()))\n",
    "\n",
    "\n",
    "model_def1 = ROOT_DIR + '/test_shiphead.prototxt'\n",
    "model_weights1 = ROOT_DIR + '/shiphead8_iter_60000.caffemodel'\n",
    "net1 = caffe.Net(model_def1, model_weights1,caffe.TEST) \n",
    "print'*******************'\n",
    "print'net1'\n",
    "print(\"blobs {}\\nparams {}\".format(net1.params.keys(), net1.params.keys()))\n",
    "\n",
    "\n",
    "model_def2 = ROOT_DIR + '/test_cascade_2.prototxt'\n",
    "model_weights2 = ROOT_DIR + '/demo_cascade_2.caffemodel'\n",
    "net2 = caffe.Net(model_def2,model_weights2,caffe.TEST) \n",
    "print'*******************'\n",
    "print'net2'\n",
    "print(\"blobs {}\\nparams {}\".format(net2.params.keys(), net2.params.keys()))"
   ]
  },
  {
   "cell_type": "code",
   "execution_count": 2,
   "metadata": {
    "collapsed": true
   },
   "outputs": [],
   "source": [
    "net.params['conv1_h'][0].data[...] = net1.params['conv1'][0].data\n",
    "net.params['conv1_h'][1].data[...] = net1.params['conv1'][1].data\n",
    "net.params['conv2_h'][0].data[...] = net1.params['conv2'][0].data\n",
    "net.params['conv2_h'][1].data[...] = net1.params['conv2'][1].data\n",
    "net.params['conv3_h'][0].data[...] = net1.params['conv3'][0].data\n",
    "net.params['conv3_h'][1].data[...] = net1.params['conv3'][1].data\n",
    "net.params['conv4_h'][0].data[...] = net1.params['conv4'][0].data\n",
    "net.params['conv4_h'][1].data[...] = net1.params['conv4'][1].data\n",
    "\n",
    "\n",
    "net.params['conv1_1'][0].data[...] = net2.params['conv1_1'][0].data\n",
    "net.params['conv1_1'][1].data[...] = net2.params['conv1_1'][1].data\n",
    "net.params['conv1_2'][0].data[...] = net2.params['conv1_2'][0].data\n",
    "net.params['conv1_2'][1].data[...] = net2.params['conv1_2'][1].data\n",
    "net.params['conv1_3'][0].data[...] = net2.params['conv1_3'][0].data\n",
    "net.params['conv1_3'][1].data[...] = net2.params['conv1_3'][1].data\n",
    "\n",
    "net.params['conv2_1'][0].data[...] = net2.params['conv2_1'][0].data\n",
    "net.params['conv2_1'][1].data[...] = net2.params['conv2_1'][1].data\n",
    "net.params['conv2_2'][0].data[...] = net2.params['conv2_2'][0].data\n",
    "net.params['conv2_2'][1].data[...] = net2.params['conv2_2'][1].data\n",
    "\n",
    "net.params['conv3'][0].data[...] = net2.params['conv3'][0].data\n",
    "net.params['conv3'][1].data[...] = net2.params['conv3'][1].data\n",
    "\n",
    "net.params['conv4'][0].data[...] = net2.params['conv4'][0].data\n",
    "net.params['conv4'][1].data[...] = net2.params['conv4'][1].data\n",
    "\n",
    "net.params['conv5'][0].data[...] = net2.params['conv5'][0].data\n",
    "net.params['conv5'][1].data[...] = net2.params['conv5'][1].data\n",
    "\n",
    "\n",
    "net.params['fc6'][0].data[...] = net2.params['fc6'][0].data\n",
    "net.params['fc6'][1].data[...] = net2.params['fc6'][1].data\n",
    "\n",
    "net.params['fc7'][0].data[...] = net2.params['fc6'][0].data\n",
    "net.params['fc7'][1].data[...] = net2.params['fc6'][1].data\n",
    "\n",
    "net.params['fc8'][0].data[...] = net2.params['fc6'][0].data\n",
    "net.params['fc8'][1].data[...] = net2.params['fc6'][1].data\n",
    "\n",
    "net.params['bbox_pred'][0].data[...] = net2.params['bbox_pred'][0].data\n",
    "net.params['bbox_pred'][1].data[...] = net2.params['bbox_pred'][1].data\n",
    "\n",
    "net.params['bbox_pred_2'][0].data[...] = net2.params['bbox_pred_2'][0].data\n",
    "net.params['bbox_pred_2'][1].data[...] = net2.params['bbox_pred_2'][1].data\n",
    "\n",
    "net.params['clssify'][0].data[...] = net2.params['clssify'][0].data\n",
    "net.params['clssify'][1].data[...] = net2.params['clssify'][1].data"
   ]
  },
  {
   "cell_type": "code",
   "execution_count": 3,
   "metadata": {
    "collapsed": true
   },
   "outputs": [],
   "source": [
    "net.save(ROOT_DIR + '/demo.caffemodel')"
   ]
  }
 ],
 "metadata": {
  "anaconda-cloud": {},
  "description": "Instant recognition with a pre-trained model and a tour of the net interface for visualizing features and parameters layer-by-layer.",
  "example_name": "Image Classification and Filter Visualization",
  "include_in_docs": true,
  "kernelspec": {
   "display_name": "Python 2",
   "language": "python",
   "name": "python2"
  },
  "language_info": {
   "codemirror_mode": {
    "name": "ipython",
    "version": 2
   },
   "file_extension": ".py",
   "mimetype": "text/x-python",
   "name": "python",
   "nbconvert_exporter": "python",
   "pygments_lexer": "ipython2",
   "version": "2.7.13"
  },
  "priority": 1
 },
 "nbformat": 4,
 "nbformat_minor": 1
}
