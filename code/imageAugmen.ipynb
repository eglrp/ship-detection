{
 "cells": [
  {
   "cell_type": "code",
   "execution_count": 1,
   "metadata": {},
   "outputs": [
    {
     "data": {
      "text/plain": [
       "<matplotlib.figure.Figure at 0x7f9849ecb410>"
      ]
     },
     "execution_count": 1,
     "metadata": {},
     "output_type": "execute_result"
    }
   ],
   "source": [
    "from PIL import Image, ImageEnhance\n",
    "import random\n",
    "import shutil\n",
    "import sys, os\n",
    "import os.path as osp\n",
    "import numpy as np\n",
    "import matplotlib.pyplot as plt\n",
    "\n",
    "\n",
    "ROOT_DIR = os.getcwd()\n",
    "plt.figure(figsize=(15,15)) "
   ]
  },
  {
   "cell_type": "code",
   "execution_count": 4,
   "metadata": {
    "collapsed": true
   },
   "outputs": [],
   "source": [
    "IMAGE_NUMBER = 1200\n",
    "for i in xrange(IMAGE_NUMBER):\n",
    "    if i%100 ==1:\n",
    "        print i\n",
    "    ind = i\n",
    "    IMAGE_DIR = ROOT_DIR + '/shipImage'\n",
    "    image_path = osp.join(IMAGE_DIR, str(np.int_(ind)+1)+'.jpg')\n",
    "    \n",
    "    if os.path.exists(image_path):\n",
    "    \n",
    "        image = Image.open(image_path, mode=\"r\")\n",
    "        \n",
    "        random_factor = np.random.randint(6, 15) / 10.\n",
    "        color_image = ImageEnhance.Color(image).enhance(random_factor)  # 饱和度\n",
    "        \n",
    "        random_factor = np.random.randint(6, 15) / 10.\n",
    "        brightness_image = ImageEnhance.Brightness(color_image).enhance(random_factor)  # 亮度\n",
    "       \n",
    "        random_factor = np.random.randint(6, 15) / 10.\n",
    "        contrast_image = ImageEnhance.Contrast(brightness_image).enhance(random_factor)  # 对比度\n",
    "    \n",
    "        random_factor = np.random.randint(6, 15) / 10.\n",
    "        imagenew =  ImageEnhance.Sharpness(contrast_image).enhance(random_factor)  # 锐度\n",
    "    \n",
    "        imagenew.save( osp.join(IMAGE_DIR,str(i+IMAGE_NUMBER+1)+'.jpg') )"
   ]
  }
 ],
 "metadata": {
  "anaconda-cloud": {},
  "description": "Instant recognition with a pre-trained model and a tour of the net interface for visualizing features and parameters layer-by-layer.",
  "example_name": "Image Classification and Filter Visualization",
  "include_in_docs": true,
  "kernelspec": {
   "display_name": "Python 2",
   "language": "python",
   "name": "python2"
  },
  "language_info": {
   "codemirror_mode": {
    "name": "ipython",
    "version": 2
   },
   "file_extension": ".py",
   "mimetype": "text/x-python",
   "name": "python",
   "nbconvert_exporter": "python",
   "pygments_lexer": "ipython2",
   "version": "2.7.13"
  },
  "priority": 1
 },
 "nbformat": 4,
 "nbformat_minor": 1
}
