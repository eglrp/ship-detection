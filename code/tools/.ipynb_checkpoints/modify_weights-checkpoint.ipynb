{
 "cells": [
  {
   "cell_type": "markdown",
   "metadata": {},
   "source": [
    "# Classification: Instant Recognition with Caffe\n",
    "\n",
    "In this example we'll classify an image with the bundled CaffeNet model (which is based on the network architecture of Krizhevsky et al. for ImageNet).\n",
    "\n",
    "We'll compare CPU and GPU modes and then dig into the model to inspect features and the output."
   ]
  },
  {
   "cell_type": "code",
   "execution_count": null,
   "metadata": {
    "collapsed": true
   },
   "outputs": [],
   "source": [
    "import numpy as np\n",
    "import sys, os\n",
    "\n",
    "# this file should be run from {caffe_root}/examples (otherwise change this line)\n",
    "\n",
    "sys.path.insert(0, '/home/bit/temp/caffe/python')\n",
    "\n",
    "sys.path.insert(0,'/home/bit/temp/lib')\n",
    "\n",
    "import caffe\n",
    "\n",
    "caffe.set_mode_gpu()\n",
    "caffe.set_device( 0 )\n",
    "\n",
    "model_def = '/home/bit/temp/test_demo.prototxt'\n",
    "model_weights = '/home/bit/temp/full_three_step.caffemodel'\n",
    "\n",
    "net = caffe.Net(model_def,caffe.TEST) \n",
    "\n",
    "#print(\"blobs {}\\nparams {}\".format(net.params.keys(), net.params.keys()))\n",
    "\n",
    "\n",
    "\n",
    "model_def1 = '/home/bit/temp/caffe/examples/shipHead/deploy_16.prototxt'\n",
    "model_weights1 = '/home/bit/temp/caffe/examples/shipHead/full_train_test_16_iter_80000.caffemodel'\n",
    "\n",
    "net2 = caffe.Net(model_def1, model_weights1, caffe.TEST) \n",
    "\n",
    "print'*******************'\n",
    "\n",
    "print(\"blobs {}\\nparams {}\".format(net2.params.keys(), net2.params.keys()))\n",
    "\n",
    "#print [(k, v) for k, v in net.blobs.items()]"
   ]
  },
  {
   "cell_type": "code",
   "execution_count": 2,
   "metadata": {},
   "outputs": [
    {
     "ename": "NameError",
     "evalue": "name 'parfc6' is not defined",
     "output_type": "error",
     "traceback": [
      "\u001b[0;31m---------------------------------------------------------------------------\u001b[0m",
      "\u001b[0;31mNameError\u001b[0m                                 Traceback (most recent call last)",
      "\u001b[0;32m<ipython-input-2-318d57b4661a>\u001b[0m in \u001b[0;36m<module>\u001b[0;34m()\u001b[0m\n\u001b[1;32m     37\u001b[0m \u001b[0;34m\u001b[0m\u001b[0m\n\u001b[1;32m     38\u001b[0m \u001b[0mparfc7\u001b[0m \u001b[0;34m=\u001b[0m \u001b[0mnet\u001b[0m\u001b[0;34m.\u001b[0m\u001b[0mparams\u001b[0m\u001b[0;34m[\u001b[0m\u001b[0;34m'fc7'\u001b[0m\u001b[0;34m]\u001b[0m\u001b[0;34m[\u001b[0m\u001b[0;36m0\u001b[0m\u001b[0;34m]\u001b[0m\u001b[0;34m.\u001b[0m\u001b[0mdata\u001b[0m\u001b[0;34m\u001b[0m\u001b[0m\n\u001b[0;32m---> 39\u001b[0;31m \u001b[0;32mprint\u001b[0m \u001b[0mparfc6\u001b[0m\u001b[0;34m\u001b[0m\u001b[0m\n\u001b[0m\u001b[1;32m     40\u001b[0m \u001b[0;32mprint\u001b[0m \u001b[0;34m'***'\u001b[0m\u001b[0;34m\u001b[0m\u001b[0m\n\u001b[1;32m     41\u001b[0m \u001b[0;31m#print parfc7\u001b[0m\u001b[0;34m\u001b[0m\u001b[0;34m\u001b[0m\u001b[0m\n",
      "\u001b[0;31mNameError\u001b[0m: name 'parfc6' is not defined"
     ]
    }
   ],
   "source": [
    "net.params['conv1'][0].data[...] = net2.params['conv1'][0].data\n",
    "net.params['conv1'][1].data[...] = net2.params['conv1'][1].data\n",
    "\n",
    "net.params['conv2'][0].data[...] = net2.params['conv2'][0].data\n",
    "net.params['conv2'][1].data[...] = net2.params['conv2'][1].data\n",
    "\n",
    "net.params['conv3'][0].data[...] = net2.params['conv3'][0].data\n",
    "net.params['conv3'][1].data[...] = net2.params['conv3'][1].data\n",
    "\n",
    "net.params['conv4'][0].data[...] = net2.params['conv4'][0].data\n",
    "net.params['conv4'][1].data[...] = net2.params['conv4'][1].data\n",
    "\n",
    "\n",
    "net.params['fc6'][0].data[...] = net2.params['fc6'][0].data\n",
    "net.params['fc6'][1].data[...] = net2.params['fc6'][1].data\n",
    "\n",
    "net.params['fc7'][0].data[...] = net2.params['fc6'][0].data\n",
    "net.params['fc7'][1].data[...] = net2.params['fc6'][1].data\n",
    "\n",
    "net.params['fc8'][0].data[...] = net2.params['fc6'][0].data\n",
    "net.params['fc8'][1].data[...] = net2.params['fc6'][1].data\n",
    "\n",
    "net.params['fc9'][0].data[...] = net2.params['fc6'][0].data\n",
    "net.params['fc9'][1].data[...] = net2.params['fc6'][1].data\n",
    "\n",
    "net.params['classify'][0].data[...] = net2.params['bbox_pred'][0].data\n",
    "net.params['classify'][1].data[...] = net2.params['bbox_pred'][1].data\n",
    "\n",
    "net.params['bbox_pred3'][0].data[...] = net2.params['bbox_pred'][0].data\n",
    "net.params['bbox_pred3'][1].data[...] = net2.params['bbox_pred'][1].data\n",
    "\n",
    "net.params['bbox_pred2'][0].data[...] = net2.params['bbox_pred'][0].data\n",
    "net.params['bbox_pred2'][1].data[...] = net2.params['bbox_pred'][1].data\n",
    "\n",
    "net.params['bbox_pred'][0].data[...] = net2.params['bbox_pred'][0].data\n",
    "net.params['bbox_pred'][1].data[...] = net2.params['bbox_pred'][1].data\n",
    "\n",
    "#parfc7 = net.params['fc7'][0].data\n",
    "#print parfc6\n",
    "#print '***'\n",
    "#print parfc7\n",
    "\n",
    "net.save('/home/bit/temp/full_three_step.caffemodel')"
   ]
  }
 ],
 "metadata": {
  "anaconda-cloud": {},
  "description": "Instant recognition with a pre-trained model and a tour of the net interface for visualizing features and parameters layer-by-layer.",
  "example_name": "Image Classification and Filter Visualization",
  "include_in_docs": true,
  "kernelspec": {
   "display_name": "Python 2",
   "language": "python",
   "name": "python2"
  },
  "language_info": {
   "codemirror_mode": {
    "name": "ipython",
    "version": 2
   },
   "file_extension": ".py",
   "mimetype": "text/x-python",
   "name": "python",
   "nbconvert_exporter": "python",
   "pygments_lexer": "ipython2",
   "version": "2.7.13"
  },
  "priority": 1
 },
 "nbformat": 4,
 "nbformat_minor": 1
}
